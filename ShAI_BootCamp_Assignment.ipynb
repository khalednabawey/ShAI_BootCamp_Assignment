{
 "cells": [
  {
   "cell_type": "markdown",
   "metadata": {
    "id": "9veqgG-LVKd3"
   },
   "source": [
    "#About Dataset\n",
    "salaries dataset generally provides information about the employees of an organization in relation to their compensation. It typically includes details such as how much each employee is paid (their salary), their job titles, the departments they work in, and possibly additional information like their level of experience, education, and employment history within the organization."
   ]
  },
  {
   "cell_type": "markdown",
   "metadata": {
    "id": "cZwHdpBfVzOh"
   },
   "source": [
    "# Features\n",
    "- 'Id'\n",
    "- 'EmployeeName'\n",
    "- 'JobTitle'\n",
    "- 'BasePay'\n",
    "- 'OvertimePay'\n",
    "- 'OtherPay'\n",
    "- 'Benefits'\n",
    "- 'TotalPay' -> salary\n",
    "- 'TotalPayBenefits'\n",
    "- 'Year'\n",
    "- 'Notes'\n",
    "- 'Agency'\n",
    "- 'Status'\n"
   ]
  },
  {
   "cell_type": "markdown",
   "metadata": {
    "id": "X1VJposzVrSF"
   },
   "source": [
    "# Tasks\n",
    "\n",
    "1. **Basic Data Exploration**: Identify the number of rows and columns in the dataset, determine the data types of each column, and check for missing values in each column.\n",
    "\n",
    "2. **Descriptive Statistics**: Calculate basic statistics mean, median, mode, minimum, and maximum salary, determine the range of salaries, and find the standard deviation.\n",
    "\n",
    "3. **Data Cleaning**: Handle missing data by suitable method with explain why you use it.\n",
    "\n",
    "4. **Basic Data Visualization**: Create histograms or bar charts to visualize the distribution of salaries, and use pie charts to represent the proportion of employees in different departments.\n",
    "\n",
    "5. **Grouped Analysis**: Group the data by one or more columns and calculate summary statistics for each group, and compare the average salaries across different groups.\n",
    "\n",
    "6. **Simple Correlation Analysis**: Identify any correlation between salary and another numerical column, and plot a scatter plot to visualize the relationship.\n",
    "\n",
    "8. **Summary of Insights**: Write a brief report summarizing the findings and insights from the analyses."
   ]
  },
  {
   "cell_type": "markdown",
   "metadata": {
    "id": "8_rNdHiGUT6A"
   },
   "source": [
    "# Very Important Note\n",
    "There is no fixed or singular solution for this assignment, so if anything is not clear, please do what you understand and provide an explanation."
   ]
  },
  {
   "cell_type": "code",
   "execution_count": 517,
   "metadata": {
    "colab": {
     "base_uri": "https://localhost:8080/",
     "height": 486
    },
    "id": "KmZfk5xkXI2y",
    "outputId": "e77ffddb-f533-4bac-d15a-3ea9f42b7890"
   },
   "outputs": [
    {
     "data": {
      "text/html": [
       "<div>\n",
       "<style scoped>\n",
       "    .dataframe tbody tr th:only-of-type {\n",
       "        vertical-align: middle;\n",
       "    }\n",
       "\n",
       "    .dataframe tbody tr th {\n",
       "        vertical-align: top;\n",
       "    }\n",
       "\n",
       "    .dataframe thead th {\n",
       "        text-align: right;\n",
       "    }\n",
       "</style>\n",
       "<table border=\"1\" class=\"dataframe\">\n",
       "  <thead>\n",
       "    <tr style=\"text-align: right;\">\n",
       "      <th></th>\n",
       "      <th>Id</th>\n",
       "      <th>EmployeeName</th>\n",
       "      <th>JobTitle</th>\n",
       "      <th>BasePay</th>\n",
       "      <th>OvertimePay</th>\n",
       "      <th>OtherPay</th>\n",
       "      <th>Benefits</th>\n",
       "      <th>TotalPay</th>\n",
       "      <th>TotalPayBenefits</th>\n",
       "      <th>Year</th>\n",
       "      <th>Notes</th>\n",
       "      <th>Agency</th>\n",
       "      <th>Status</th>\n",
       "    </tr>\n",
       "  </thead>\n",
       "  <tbody>\n",
       "    <tr>\n",
       "      <th>0</th>\n",
       "      <td>1</td>\n",
       "      <td>NATHANIEL FORD</td>\n",
       "      <td>GENERAL MANAGER-METROPOLITAN TRANSIT AUTHORITY</td>\n",
       "      <td>167411.18</td>\n",
       "      <td>0.00</td>\n",
       "      <td>400184.25</td>\n",
       "      <td>NaN</td>\n",
       "      <td>567595.43</td>\n",
       "      <td>567595.43</td>\n",
       "      <td>2011</td>\n",
       "      <td>NaN</td>\n",
       "      <td>San Francisco</td>\n",
       "      <td>NaN</td>\n",
       "    </tr>\n",
       "    <tr>\n",
       "      <th>1</th>\n",
       "      <td>2</td>\n",
       "      <td>GARY JIMENEZ</td>\n",
       "      <td>CAPTAIN III (POLICE DEPARTMENT)</td>\n",
       "      <td>155966.02</td>\n",
       "      <td>245131.88</td>\n",
       "      <td>137811.38</td>\n",
       "      <td>NaN</td>\n",
       "      <td>538909.28</td>\n",
       "      <td>538909.28</td>\n",
       "      <td>2011</td>\n",
       "      <td>NaN</td>\n",
       "      <td>San Francisco</td>\n",
       "      <td>NaN</td>\n",
       "    </tr>\n",
       "    <tr>\n",
       "      <th>2</th>\n",
       "      <td>3</td>\n",
       "      <td>ALBERT PARDINI</td>\n",
       "      <td>CAPTAIN III (POLICE DEPARTMENT)</td>\n",
       "      <td>212739.13</td>\n",
       "      <td>106088.18</td>\n",
       "      <td>16452.60</td>\n",
       "      <td>NaN</td>\n",
       "      <td>335279.91</td>\n",
       "      <td>335279.91</td>\n",
       "      <td>2011</td>\n",
       "      <td>NaN</td>\n",
       "      <td>San Francisco</td>\n",
       "      <td>NaN</td>\n",
       "    </tr>\n",
       "    <tr>\n",
       "      <th>3</th>\n",
       "      <td>4</td>\n",
       "      <td>CHRISTOPHER CHONG</td>\n",
       "      <td>WIRE ROPE CABLE MAINTENANCE MECHANIC</td>\n",
       "      <td>77916.00</td>\n",
       "      <td>56120.71</td>\n",
       "      <td>198306.90</td>\n",
       "      <td>NaN</td>\n",
       "      <td>332343.61</td>\n",
       "      <td>332343.61</td>\n",
       "      <td>2011</td>\n",
       "      <td>NaN</td>\n",
       "      <td>San Francisco</td>\n",
       "      <td>NaN</td>\n",
       "    </tr>\n",
       "    <tr>\n",
       "      <th>4</th>\n",
       "      <td>5</td>\n",
       "      <td>PATRICK GARDNER</td>\n",
       "      <td>DEPUTY CHIEF OF DEPARTMENT,(FIRE DEPARTMENT)</td>\n",
       "      <td>134401.60</td>\n",
       "      <td>9737.00</td>\n",
       "      <td>182234.59</td>\n",
       "      <td>NaN</td>\n",
       "      <td>326373.19</td>\n",
       "      <td>326373.19</td>\n",
       "      <td>2011</td>\n",
       "      <td>NaN</td>\n",
       "      <td>San Francisco</td>\n",
       "      <td>NaN</td>\n",
       "    </tr>\n",
       "  </tbody>\n",
       "</table>\n",
       "</div>"
      ],
      "text/plain": [
       "   Id       EmployeeName                                        JobTitle  \\\n",
       "0   1     NATHANIEL FORD  GENERAL MANAGER-METROPOLITAN TRANSIT AUTHORITY   \n",
       "1   2       GARY JIMENEZ                 CAPTAIN III (POLICE DEPARTMENT)   \n",
       "2   3     ALBERT PARDINI                 CAPTAIN III (POLICE DEPARTMENT)   \n",
       "3   4  CHRISTOPHER CHONG            WIRE ROPE CABLE MAINTENANCE MECHANIC   \n",
       "4   5    PATRICK GARDNER    DEPUTY CHIEF OF DEPARTMENT,(FIRE DEPARTMENT)   \n",
       "\n",
       "     BasePay  OvertimePay   OtherPay  Benefits   TotalPay  TotalPayBenefits  \\\n",
       "0  167411.18         0.00  400184.25       NaN  567595.43         567595.43   \n",
       "1  155966.02    245131.88  137811.38       NaN  538909.28         538909.28   \n",
       "2  212739.13    106088.18   16452.60       NaN  335279.91         335279.91   \n",
       "3   77916.00     56120.71  198306.90       NaN  332343.61         332343.61   \n",
       "4  134401.60      9737.00  182234.59       NaN  326373.19         326373.19   \n",
       "\n",
       "   Year  Notes         Agency  Status  \n",
       "0  2011    NaN  San Francisco     NaN  \n",
       "1  2011    NaN  San Francisco     NaN  \n",
       "2  2011    NaN  San Francisco     NaN  \n",
       "3  2011    NaN  San Francisco     NaN  \n",
       "4  2011    NaN  San Francisco     NaN  "
      ]
     },
     "execution_count": 517,
     "metadata": {},
     "output_type": "execute_result"
    }
   ],
   "source": [
    "import pandas as pd\n",
    "import numpy as np\n",
    "import matplotlib.pyplot as plt\n",
    "import seaborn as sns\n",
    "from ipywidgets import widgets, interact\n",
    "\n",
    "# Load your dataset\n",
    "df = pd.read_csv('Salaries.csv')\n",
    "df.head()\n"
   ]
  },
  {
   "cell_type": "markdown",
   "metadata": {},
   "source": [
    "### Data Exploration"
   ]
  },
  {
   "cell_type": "code",
   "execution_count": 518,
   "metadata": {
    "colab": {
     "base_uri": "https://localhost:8080/"
    },
    "id": "xIT514wlvvBZ",
    "outputId": "9ecf152c-554a-4cf6-d667-efc95c16d489"
   },
   "outputs": [
    {
     "name": "stdout",
     "output_type": "stream",
     "text": [
      "Dataset columns: \n",
      "['Id', 'EmployeeName', 'JobTitle', 'BasePay', 'OvertimePay', 'OtherPay', 'Benefits', 'TotalPay', 'TotalPayBenefits', 'Year', 'Notes', 'Agency', 'Status']\n"
     ]
    }
   ],
   "source": [
    "print(f\"Dataset columns: \\n{list(df.columns)}\")"
   ]
  },
  {
   "cell_type": "code",
   "execution_count": 519,
   "metadata": {
    "id": "bbIN2ujHUyRx"
   },
   "outputs": [
    {
     "name": "stdout",
     "output_type": "stream",
     "text": [
      "The dataset consists of 148654 rows and 13 columns\n"
     ]
    }
   ],
   "source": [
    "# Dataset dimensions\n",
    "print(f\"The dataset consists of {df.shape[0]} rows and {df.shape[1]} columns\")"
   ]
  },
  {
   "cell_type": "code",
   "execution_count": 520,
   "metadata": {},
   "outputs": [
    {
     "name": "stdout",
     "output_type": "stream",
     "text": [
      "<class 'pandas.core.frame.DataFrame'>\n",
      "RangeIndex: 148654 entries, 0 to 148653\n",
      "Data columns (total 13 columns):\n",
      " #   Column            Non-Null Count   Dtype  \n",
      "---  ------            --------------   -----  \n",
      " 0   Id                148654 non-null  int64  \n",
      " 1   EmployeeName      148654 non-null  object \n",
      " 2   JobTitle          148654 non-null  object \n",
      " 3   BasePay           148045 non-null  float64\n",
      " 4   OvertimePay       148650 non-null  float64\n",
      " 5   OtherPay          148650 non-null  float64\n",
      " 6   Benefits          112491 non-null  float64\n",
      " 7   TotalPay          148654 non-null  float64\n",
      " 8   TotalPayBenefits  148654 non-null  float64\n",
      " 9   Year              148654 non-null  int64  \n",
      " 10  Notes             0 non-null       float64\n",
      " 11  Agency            148654 non-null  object \n",
      " 12  Status            0 non-null       float64\n",
      "dtypes: float64(8), int64(2), object(3)\n",
      "memory usage: 14.7+ MB\n"
     ]
    }
   ],
   "source": [
    "df.info()"
   ]
  },
  {
   "cell_type": "markdown",
   "metadata": {},
   "source": [
    "- Our dataset seems to have some missing values especially in the 'Notes' and 'Status' columns as they are all zeros.\n",
    "- The data types of the columns seems good but the 'Notes' and 'Status' columns are not right."
   ]
  },
  {
   "cell_type": "code",
   "execution_count": 521,
   "metadata": {},
   "outputs": [
    {
     "data": {
      "application/vnd.jupyter.widget-view+json": {
       "model_id": "d8d1572a8dcc44ceaa41db1f19a7c5dc",
       "version_major": 2,
       "version_minor": 0
      },
      "text/plain": [
       "interactive(children=(Dropdown(description='column', options=('Id', 'EmployeeName', 'JobTitle', 'BasePay', 'Ov…"
      ]
     },
     "metadata": {},
     "output_type": "display_data"
    }
   ],
   "source": [
    "# Showing the main charactaristics of each column in the dataset excluding 'Notes', 'Status' cause they have all nulls\n",
    "@interact(column = df.drop(columns = ['Notes', 'Status']).columns)\n",
    "def column_info(column):\n",
    "    print(\"*\" * 10, column, \"*\" * 10)\n",
    "    display(df[column].value_counts())\n",
    "    print(\"-\" * 30)\n",
    "    display(df[column].describe())\n",
    "    print(\"=\" * 40)"
   ]
  },
  {
   "cell_type": "markdown",
   "metadata": {},
   "source": [
    "- The payement columns seems to have some negative values that we need to handle.\n",
    "- The 'Year' column has values that doesn't seem to be years \n",
    "- The range of the numerical values seems reasonable."
   ]
  },
  {
   "cell_type": "code",
   "execution_count": 522,
   "metadata": {
    "id": "_dovy31FUyUF"
   },
   "outputs": [
    {
     "name": "stdout",
     "output_type": "stream",
     "text": [
      "Number of Missing values in each column:\n",
      "Id                       0\n",
      "EmployeeName             0\n",
      "JobTitle                 0\n",
      "BasePay                609\n",
      "OvertimePay              4\n",
      "OtherPay                 4\n",
      "Benefits             36163\n",
      "TotalPay                 0\n",
      "TotalPayBenefits         0\n",
      "Year                     0\n",
      "Notes               148654\n",
      "Agency                   0\n",
      "Status              148654\n",
      "dtype: int64\n"
     ]
    }
   ],
   "source": [
    "# Exploring the missing values in the data \n",
    "print(f\"Number of Missing values in each column:\\n{df.isnull().sum()}\")"
   ]
  },
  {
   "cell_type": "markdown",
   "metadata": {},
   "source": [
    "- As we can see the column ['Status', 'Notes'] has 100% null values so we will remove those colums as they won't provide us with any information. "
   ]
  },
  {
   "cell_type": "markdown",
   "metadata": {},
   "source": [
    "### Data Cleaning "
   ]
  },
  {
   "cell_type": "code",
   "execution_count": 523,
   "metadata": {},
   "outputs": [
    {
     "name": "stdout",
     "output_type": "stream",
     "text": [
      "<class 'pandas.core.frame.DataFrame'>\n",
      "RangeIndex: 148654 entries, 0 to 148653\n",
      "Data columns (total 11 columns):\n",
      " #   Column            Non-Null Count   Dtype  \n",
      "---  ------            --------------   -----  \n",
      " 0   Id                148654 non-null  int64  \n",
      " 1   EmployeeName      148654 non-null  object \n",
      " 2   JobTitle          148654 non-null  object \n",
      " 3   BasePay           148045 non-null  float64\n",
      " 4   OvertimePay       148650 non-null  float64\n",
      " 5   OtherPay          148650 non-null  float64\n",
      " 6   Benefits          112491 non-null  float64\n",
      " 7   TotalPay          148654 non-null  float64\n",
      " 8   TotalPayBenefits  148654 non-null  float64\n",
      " 9   Year              148654 non-null  int64  \n",
      " 10  Agency            148654 non-null  object \n",
      "dtypes: float64(6), int64(2), object(3)\n",
      "memory usage: 12.5+ MB\n"
     ]
    }
   ],
   "source": [
    "# Dropping the two columns\n",
    "df.drop(columns  = ['Status', 'Notes'], inplace = True)\n",
    "# Showing the Dataset information after dropping the columns\n",
    "df.info()"
   ]
  },
  {
   "cell_type": "markdown",
   "metadata": {},
   "source": [
    "##### Handling the negative values in the payment columns"
   ]
  },
  {
   "cell_type": "code",
   "execution_count": 524,
   "metadata": {},
   "outputs": [
    {
     "data": {
      "text/html": [
       "<div>\n",
       "<style scoped>\n",
       "    .dataframe tbody tr th:only-of-type {\n",
       "        vertical-align: middle;\n",
       "    }\n",
       "\n",
       "    .dataframe tbody tr th {\n",
       "        vertical-align: top;\n",
       "    }\n",
       "\n",
       "    .dataframe thead th {\n",
       "        text-align: right;\n",
       "    }\n",
       "</style>\n",
       "<table border=\"1\" class=\"dataframe\">\n",
       "  <thead>\n",
       "    <tr style=\"text-align: right;\">\n",
       "      <th></th>\n",
       "      <th>Id</th>\n",
       "      <th>BasePay</th>\n",
       "      <th>OvertimePay</th>\n",
       "      <th>OtherPay</th>\n",
       "      <th>Benefits</th>\n",
       "      <th>TotalPay</th>\n",
       "      <th>TotalPayBenefits</th>\n",
       "      <th>Year</th>\n",
       "    </tr>\n",
       "  </thead>\n",
       "  <tbody>\n",
       "    <tr>\n",
       "      <th>count</th>\n",
       "      <td>148633.000000</td>\n",
       "      <td>148027.000000</td>\n",
       "      <td>148629.000000</td>\n",
       "      <td>148629.000000</td>\n",
       "      <td>112470.000000</td>\n",
       "      <td>148633.000000</td>\n",
       "      <td>148633.000000</td>\n",
       "      <td>148633.000000</td>\n",
       "    </tr>\n",
       "    <tr>\n",
       "      <th>mean</th>\n",
       "      <td>74325.229613</td>\n",
       "      <td>66331.428168</td>\n",
       "      <td>5066.750620</td>\n",
       "      <td>3649.257616</td>\n",
       "      <td>25011.525799</td>\n",
       "      <td>74776.758227</td>\n",
       "      <td>93702.880330</td>\n",
       "      <td>2012.522636</td>\n",
       "    </tr>\n",
       "    <tr>\n",
       "      <th>std</th>\n",
       "      <td>42914.584650</td>\n",
       "      <td>42762.323488</td>\n",
       "      <td>11455.040983</td>\n",
       "      <td>8057.002045</td>\n",
       "      <td>15400.558302</td>\n",
       "      <td>50514.358835</td>\n",
       "      <td>62790.060508</td>\n",
       "      <td>1.117589</td>\n",
       "    </tr>\n",
       "    <tr>\n",
       "      <th>min</th>\n",
       "      <td>1.000000</td>\n",
       "      <td>0.000000</td>\n",
       "      <td>0.000000</td>\n",
       "      <td>0.000000</td>\n",
       "      <td>0.000000</td>\n",
       "      <td>0.000000</td>\n",
       "      <td>0.000000</td>\n",
       "      <td>2011.000000</td>\n",
       "    </tr>\n",
       "    <tr>\n",
       "      <th>25%</th>\n",
       "      <td>37159.000000</td>\n",
       "      <td>33599.910000</td>\n",
       "      <td>0.000000</td>\n",
       "      <td>0.000000</td>\n",
       "      <td>11546.870000</td>\n",
       "      <td>36178.330000</td>\n",
       "      <td>44097.080000</td>\n",
       "      <td>2012.000000</td>\n",
       "    </tr>\n",
       "    <tr>\n",
       "      <th>50%</th>\n",
       "      <td>74328.000000</td>\n",
       "      <td>65010.820000</td>\n",
       "      <td>0.000000</td>\n",
       "      <td>812.120000</td>\n",
       "      <td>28629.855000</td>\n",
       "      <td>71430.240000</td>\n",
       "      <td>92409.150000</td>\n",
       "      <td>2013.000000</td>\n",
       "    </tr>\n",
       "    <tr>\n",
       "      <th>75%</th>\n",
       "      <td>111494.000000</td>\n",
       "      <td>94691.060000</td>\n",
       "      <td>4658.830000</td>\n",
       "      <td>4237.140000</td>\n",
       "      <td>35568.720000</td>\n",
       "      <td>105846.070000</td>\n",
       "      <td>132881.790000</td>\n",
       "      <td>2014.000000</td>\n",
       "    </tr>\n",
       "    <tr>\n",
       "      <th>max</th>\n",
       "      <td>148653.000000</td>\n",
       "      <td>319275.010000</td>\n",
       "      <td>245131.880000</td>\n",
       "      <td>400184.250000</td>\n",
       "      <td>96570.660000</td>\n",
       "      <td>567595.430000</td>\n",
       "      <td>567595.430000</td>\n",
       "      <td>2014.000000</td>\n",
       "    </tr>\n",
       "  </tbody>\n",
       "</table>\n",
       "</div>"
      ],
      "text/plain": [
       "                  Id        BasePay    OvertimePay       OtherPay  \\\n",
       "count  148633.000000  148027.000000  148629.000000  148629.000000   \n",
       "mean    74325.229613   66331.428168    5066.750620    3649.257616   \n",
       "std     42914.584650   42762.323488   11455.040983    8057.002045   \n",
       "min         1.000000       0.000000       0.000000       0.000000   \n",
       "25%     37159.000000   33599.910000       0.000000       0.000000   \n",
       "50%     74328.000000   65010.820000       0.000000     812.120000   \n",
       "75%    111494.000000   94691.060000    4658.830000    4237.140000   \n",
       "max    148653.000000  319275.010000  245131.880000  400184.250000   \n",
       "\n",
       "            Benefits       TotalPay  TotalPayBenefits           Year  \n",
       "count  112470.000000  148633.000000     148633.000000  148633.000000  \n",
       "mean    25011.525799   74776.758227      93702.880330    2012.522636  \n",
       "std     15400.558302   50514.358835      62790.060508       1.117589  \n",
       "min         0.000000       0.000000          0.000000    2011.000000  \n",
       "25%     11546.870000   36178.330000      44097.080000    2012.000000  \n",
       "50%     28629.855000   71430.240000      92409.150000    2013.000000  \n",
       "75%     35568.720000  105846.070000     132881.790000    2014.000000  \n",
       "max     96570.660000  567595.430000     567595.430000    2014.000000  "
      ]
     },
     "execution_count": 524,
     "metadata": {},
     "output_type": "execute_result"
    }
   ],
   "source": [
    "# Filering the null values from the data\n",
    "df = df.loc[~(df[df.select_dtypes(\"number\").columns] < 0).any(axis=1)]\n",
    "# Showing the statistical values of each column in the data.\n",
    "df.describe()"
   ]
  },
  {
   "cell_type": "markdown",
   "metadata": {},
   "source": [
    "##### Handling missing values in the payment columns"
   ]
  },
  {
   "cell_type": "code",
   "execution_count": 525,
   "metadata": {},
   "outputs": [],
   "source": [
    "# Filling the null values in ['OvertimePay', 'OtherPay', 'Benefits', 'TotalPay', 'TotalPayBenefits'] columns \n",
    "df[payment_cols[1:]] = df[payment_cols[1:]].fillna(0)\n",
    "# Calculate the null values in 'BasePay' based on the the values of other payment features  \n",
    "df['BasePay'].fillna(df['TotalPay'] - (df['OtherPay'] + df['OvertimePay']), inplace=True)\n",
    "# Filtering the 'BasePay' That are less than 1000\n",
    "df = df[df['BasePay'] >= 1000]"
   ]
  },
  {
   "cell_type": "markdown",
   "metadata": {},
   "source": [
    "- Filling the null values in the payment columns with '0' except the 'BasePay' column.\n",
    "- As we will use the other columns to compute the null values by subtracting the other extras from the total pay to get the missing base pay.\n",
    "- Filtering the BasePay to be higher than 1000 to be reasonable."
   ]
  },
  {
   "cell_type": "code",
   "execution_count": 526,
   "metadata": {},
   "outputs": [
    {
     "name": "stdout",
     "output_type": "stream",
     "text": [
      "Number of null values after cleaning:\n",
      "Id                  0\n",
      "EmployeeName        0\n",
      "JobTitle            0\n",
      "BasePay             0\n",
      "OvertimePay         0\n",
      "OtherPay            0\n",
      "Benefits            0\n",
      "TotalPay            0\n",
      "TotalPayBenefits    0\n",
      "Year                0\n",
      "Agency              0\n",
      "dtype: int64\n"
     ]
    }
   ],
   "source": [
    "# Checking the null values after handling it.\n",
    "print(f'Number of null values after cleaning:\\n{df.isnull().sum()}')"
   ]
  },
  {
   "cell_type": "markdown",
   "metadata": {},
   "source": [
    "### Data Analysis "
   ]
  },
  {
   "cell_type": "code",
   "execution_count": 527,
   "metadata": {},
   "outputs": [
    {
     "data": {
      "application/vnd.jupyter.widget-view+json": {
       "model_id": "320d81aac53d4968ad8c92303d6b1674",
       "version_major": 2,
       "version_minor": 0
      },
      "text/plain": [
       "interactive(children=(Dropdown(description='column', options=('BasePay', 'OvertimePay', 'OtherPay', 'Benefits'…"
      ]
     },
     "metadata": {},
     "output_type": "display_data"
    }
   ],
   "source": [
    "# Plotting the histogram of each numerical column in the data \n",
    "@interact(column = df.drop(\"Id\", axis = 1).select_dtypes(\"number\").columns)\n",
    "def plot_histogram(column):\n",
    "    plt.figure(figsize=(12, 8))  # Set the figure size here\n",
    "    sns.histplot(x = df[column], palette = \"magma\")\n",
    "    plt.title(f'{column} Histogram')\n",
    "    plt.show()"
   ]
  },
  {
   "cell_type": "code",
   "execution_count": 536,
   "metadata": {},
   "outputs": [
    {
     "data": {
      "application/vnd.jupyter.widget-view+json": {
       "model_id": "36445cb46db64ce3bf883cbfcde9e3cb",
       "version_major": 2,
       "version_minor": 0
      },
      "text/plain": [
       "interactive(children=(Dropdown(description='column', options=('BasePay', 'OvertimePay', 'OtherPay', 'Benefits'…"
      ]
     },
     "metadata": {},
     "output_type": "display_data"
    }
   ],
   "source": [
    "# Plotting the histogram of each numerical column in the data \n",
    "@interact(column = df.drop(\"Id\", axis = 1).select_dtypes(\"number\").columns)\n",
    "def plot_histogram(column):\n",
    "    plt.figure(figsize=(12, 8))  # Set the figure size here\n",
    "    sns.boxplot(x = df[column], palette = \"magma\")\n",
    "    plt.title(f'{column} Histogram')\n",
    "    plt.show()"
   ]
  },
  {
   "cell_type": "markdown",
   "metadata": {},
   "source": [
    "- There is some big ranges in the payment columns but it's rational cause the data has many job titles with different work and salaries"
   ]
  },
  {
   "cell_type": "markdown",
   "metadata": {},
   "source": [
    "#### Which year has the highest TotalPayBenefits ?"
   ]
  },
  {
   "cell_type": "code",
   "execution_count": 529,
   "metadata": {},
   "outputs": [
    {
     "data": {
      "image/png": "[encoded data removed]",
      "text/plain": [
       "<Figure size 864x432 with 1 Axes>"
      ]
     },
     "metadata": {
      "needs_background": "light"
     },
     "output_type": "display_data"
    }
   ],
   "source": [
    "# Grouping each year with its average 'TotalPayBenefits'\n",
    "year_df = df.groupby(\"Year\")['TotalPayBenefits'].mean().sort_values(ascending = False)\n",
    "# Bar plot to illustrate the difference between years\n",
    "year_df.plot.bar(figsize = (12, 6),\n",
    "                 title = \"Total pay with benefits for each year\",\n",
    "                 color = sns.color_palette(\"Blues_r\"));"
   ]
  },
  {
   "cell_type": "markdown",
   "metadata": {},
   "source": [
    "- The year '2013' has the highest 'BarePay' between the years"
   ]
  },
  {
   "cell_type": "markdown",
   "metadata": {},
   "source": [
    "#### What are the agencies in our data ?"
   ]
  },
  {
   "cell_type": "code",
   "execution_count": 530,
   "metadata": {},
   "outputs": [
    {
     "data": {
      "image/png": "[encoded data removed]",
      "text/plain": [
       "<Figure size 864x432 with 1 Axes>"
      ]
     },
     "metadata": {},
     "output_type": "display_data"
    }
   ],
   "source": [
    "# Setting the figure size\n",
    "plt.figure(figsize = (12, 6))\n",
    "# Constructing a pie plot for the agency values\n",
    "plt.pie(df['Agency'].value_counts(), labels = df['Agency'].value_counts().index);\n",
    "# Setting a title for the chart \n",
    "plt.title(\"Agency Value pct\");"
   ]
  },
  {
   "cell_type": "markdown",
   "metadata": {},
   "source": [
    "- We can see that the 'Agency' column has only one value 'San Francisco'"
   ]
  },
  {
   "cell_type": "markdown",
   "metadata": {},
   "source": [
    "#### Is there a relationship between the 'BasePay' of the employer and his 'Benefits' ?"
   ]
  },
  {
   "cell_type": "code",
   "execution_count": 531,
   "metadata": {},
   "outputs": [
    {
     "data": {
      "image/png": "[encoded data removed]",
      "text/plain": [
       "<Figure size 864x432 with 1 Axes>"
      ]
     },
     "metadata": {
      "needs_background": "light"
     },
     "output_type": "display_data"
    }
   ],
   "source": [
    "# Setting the figure size\n",
    "plt.figure(figsize = (12, 6))\n",
    "plt.scatter(df['BasePay'], df['Benefits'], color = \"purple\");"
   ]
  },
  {
   "cell_type": "markdown",
   "metadata": {},
   "source": [
    "- It seems that they have a strong positive relation that the Higher payed employers seems to be better at work"
   ]
  },
  {
   "cell_type": "markdown",
   "metadata": {},
   "source": [
    "#### Is there a relation between 'OvertimePay' and the 'TotalPayBenefits' ?"
   ]
  },
  {
   "cell_type": "code",
   "execution_count": 532,
   "metadata": {},
   "outputs": [
    {
     "data": {
      "image/png": "[encoded data removed]",
      "text/plain": [
       "<Figure size 864x432 with 1 Axes>"
      ]
     },
     "metadata": {
      "needs_background": "light"
     },
     "output_type": "display_data"
    }
   ],
   "source": [
    "# Setting the figure size\n",
    "plt.figure(figsize = (12, 6))\n",
    "plt.scatter(df['OvertimePay'], df['TotalPayBenefits'], color = \"purple\");"
   ]
  },
  {
   "cell_type": "markdown",
   "metadata": {},
   "source": [
    "- There is a fairly good relation between the 'OvertimePay' and the 'TotalPayBenefits' so we can conclude that the employers that works more overtime gets better benefits "
   ]
  },
  {
   "cell_type": "markdown",
   "metadata": {},
   "source": [
    "#### What is the job title that has the highest Total payment ?"
   ]
  },
  {
   "cell_type": "code",
   "execution_count": 533,
   "metadata": {},
   "outputs": [
    {
     "data": {
      "text/html": [
       "<div>\n",
       "<style scoped>\n",
       "    .dataframe tbody tr th:only-of-type {\n",
       "        vertical-align: middle;\n",
       "    }\n",
       "\n",
       "    .dataframe tbody tr th {\n",
       "        vertical-align: top;\n",
       "    }\n",
       "\n",
       "    .dataframe thead th {\n",
       "        text-align: right;\n",
       "    }\n",
       "</style>\n",
       "<table border=\"1\" class=\"dataframe\">\n",
       "  <thead>\n",
       "    <tr style=\"text-align: right;\">\n",
       "      <th></th>\n",
       "      <th>BasePay</th>\n",
       "      <th>OvertimePay</th>\n",
       "      <th>OtherPay</th>\n",
       "      <th>Benefits</th>\n",
       "      <th>TotalPay</th>\n",
       "      <th>TotalPayBenefits</th>\n",
       "    </tr>\n",
       "    <tr>\n",
       "      <th>JobTitle</th>\n",
       "      <th></th>\n",
       "      <th></th>\n",
       "      <th></th>\n",
       "      <th></th>\n",
       "      <th></th>\n",
       "      <th></th>\n",
       "    </tr>\n",
       "  </thead>\n",
       "  <tbody>\n",
       "    <tr>\n",
       "      <th>GENERAL MANAGER-METROPOLITAN TRANSIT AUTHORITY</th>\n",
       "      <td>199119.150000</td>\n",
       "      <td>0.000000</td>\n",
       "      <td>200092.125000</td>\n",
       "      <td>0.000000</td>\n",
       "      <td>399211.275000</td>\n",
       "      <td>399211.275000</td>\n",
       "    </tr>\n",
       "    <tr>\n",
       "      <th>Chief Investment Officer</th>\n",
       "      <td>257340.000000</td>\n",
       "      <td>0.000000</td>\n",
       "      <td>82313.700000</td>\n",
       "      <td>96570.660000</td>\n",
       "      <td>339653.700000</td>\n",
       "      <td>436224.360000</td>\n",
       "    </tr>\n",
       "    <tr>\n",
       "      <th>Chief of Police</th>\n",
       "      <td>309767.683333</td>\n",
       "      <td>0.000000</td>\n",
       "      <td>19415.963333</td>\n",
       "      <td>82548.620000</td>\n",
       "      <td>329183.646667</td>\n",
       "      <td>411732.266667</td>\n",
       "    </tr>\n",
       "    <tr>\n",
       "      <th>Chief, Fire Department</th>\n",
       "      <td>304232.340000</td>\n",
       "      <td>0.000000</td>\n",
       "      <td>21739.343333</td>\n",
       "      <td>82893.643333</td>\n",
       "      <td>325971.683333</td>\n",
       "      <td>408865.326667</td>\n",
       "    </tr>\n",
       "    <tr>\n",
       "      <th>DEPUTY DIRECTOR OF INVESTMENTS</th>\n",
       "      <td>256576.960000</td>\n",
       "      <td>0.000000</td>\n",
       "      <td>51322.500000</td>\n",
       "      <td>0.000000</td>\n",
       "      <td>307899.460000</td>\n",
       "      <td>307899.460000</td>\n",
       "    </tr>\n",
       "    <tr>\n",
       "      <th>CHIEF OF DEPARTMENT, (FIRE DEPARTMENT)</th>\n",
       "      <td>285262.000000</td>\n",
       "      <td>0.000000</td>\n",
       "      <td>17115.730000</td>\n",
       "      <td>0.000000</td>\n",
       "      <td>302377.730000</td>\n",
       "      <td>302377.730000</td>\n",
       "    </tr>\n",
       "    <tr>\n",
       "      <th>Gen Mgr, Public Trnsp Dept</th>\n",
       "      <td>297769.413333</td>\n",
       "      <td>0.000000</td>\n",
       "      <td>0.000000</td>\n",
       "      <td>82927.026667</td>\n",
       "      <td>297769.413333</td>\n",
       "      <td>380696.440000</td>\n",
       "    </tr>\n",
       "    <tr>\n",
       "      <th>Asst Chf of Dept (Fire Dept)</th>\n",
       "      <td>208249.661111</td>\n",
       "      <td>46024.222222</td>\n",
       "      <td>27489.600556</td>\n",
       "      <td>60834.066667</td>\n",
       "      <td>281763.483889</td>\n",
       "      <td>342597.550556</td>\n",
       "    </tr>\n",
       "    <tr>\n",
       "      <th>DEPUTY CHIEF OF DEPARTMENT,(FIRE DEPARTMENT)</th>\n",
       "      <td>199852.653333</td>\n",
       "      <td>4605.000000</td>\n",
       "      <td>74901.906667</td>\n",
       "      <td>0.000000</td>\n",
       "      <td>279359.560000</td>\n",
       "      <td>279359.560000</td>\n",
       "    </tr>\n",
       "    <tr>\n",
       "      <th>Dep Dir for Investments, Ret</th>\n",
       "      <td>276153.765000</td>\n",
       "      <td>0.000000</td>\n",
       "      <td>2438.780000</td>\n",
       "      <td>77138.715000</td>\n",
       "      <td>278592.545000</td>\n",
       "      <td>355731.260000</td>\n",
       "    </tr>\n",
       "  </tbody>\n",
       "</table>\n",
       "</div>"
      ],
      "text/plain": [
       "                                                      BasePay   OvertimePay  \\\n",
       "JobTitle                                                                      \n",
       "GENERAL MANAGER-METROPOLITAN TRANSIT AUTHORITY  199119.150000      0.000000   \n",
       "Chief Investment Officer                        257340.000000      0.000000   \n",
       "Chief of Police                                 309767.683333      0.000000   \n",
       "Chief, Fire Department                          304232.340000      0.000000   \n",
       "DEPUTY DIRECTOR OF INVESTMENTS                  256576.960000      0.000000   \n",
       "CHIEF OF DEPARTMENT, (FIRE DEPARTMENT)          285262.000000      0.000000   \n",
       "Gen Mgr, Public Trnsp Dept                      297769.413333      0.000000   \n",
       "Asst Chf of Dept (Fire Dept)                    208249.661111  46024.222222   \n",
       "DEPUTY CHIEF OF DEPARTMENT,(FIRE DEPARTMENT)    199852.653333   4605.000000   \n",
       "Dep Dir for Investments, Ret                    276153.765000      0.000000   \n",
       "\n",
       "                                                     OtherPay      Benefits  \\\n",
       "JobTitle                                                                      \n",
       "GENERAL MANAGER-METROPOLITAN TRANSIT AUTHORITY  200092.125000      0.000000   \n",
       "Chief Investment Officer                         82313.700000  96570.660000   \n",
       "Chief of Police                                  19415.963333  82548.620000   \n",
       "Chief, Fire Department                           21739.343333  82893.643333   \n",
       "DEPUTY DIRECTOR OF INVESTMENTS                   51322.500000      0.000000   \n",
       "CHIEF OF DEPARTMENT, (FIRE DEPARTMENT)           17115.730000      0.000000   \n",
       "Gen Mgr, Public Trnsp Dept                           0.000000  82927.026667   \n",
       "Asst Chf of Dept (Fire Dept)                     27489.600556  60834.066667   \n",
       "DEPUTY CHIEF OF DEPARTMENT,(FIRE DEPARTMENT)     74901.906667      0.000000   \n",
       "Dep Dir for Investments, Ret                      2438.780000  77138.715000   \n",
       "\n",
       "                                                     TotalPay  \\\n",
       "JobTitle                                                        \n",
       "GENERAL MANAGER-METROPOLITAN TRANSIT AUTHORITY  399211.275000   \n",
       "Chief Investment Officer                        339653.700000   \n",
       "Chief of Police                                 329183.646667   \n",
       "Chief, Fire Department                          325971.683333   \n",
       "DEPUTY DIRECTOR OF INVESTMENTS                  307899.460000   \n",
       "CHIEF OF DEPARTMENT, (FIRE DEPARTMENT)          302377.730000   \n",
       "Gen Mgr, Public Trnsp Dept                      297769.413333   \n",
       "Asst Chf of Dept (Fire Dept)                    281763.483889   \n",
       "DEPUTY CHIEF OF DEPARTMENT,(FIRE DEPARTMENT)    279359.560000   \n",
       "Dep Dir for Investments, Ret                    278592.545000   \n",
       "\n",
       "                                                TotalPayBenefits  \n",
       "JobTitle                                                          \n",
       "GENERAL MANAGER-METROPOLITAN TRANSIT AUTHORITY     399211.275000  \n",
       "Chief Investment Officer                           436224.360000  \n",
       "Chief of Police                                    411732.266667  \n",
       "Chief, Fire Department                             408865.326667  \n",
       "DEPUTY DIRECTOR OF INVESTMENTS                     307899.460000  \n",
       "CHIEF OF DEPARTMENT, (FIRE DEPARTMENT)             302377.730000  \n",
       "Gen Mgr, Public Trnsp Dept                         380696.440000  \n",
       "Asst Chf of Dept (Fire Dept)                       342597.550556  \n",
       "DEPUTY CHIEF OF DEPARTMENT,(FIRE DEPARTMENT)       279359.560000  \n",
       "Dep Dir for Investments, Ret                       355731.260000  "
      ]
     },
     "execution_count": 533,
     "metadata": {},
     "output_type": "execute_result"
    }
   ],
   "source": [
    "# Grouping each job title with its average total pay and sorting it to get the highest on top.\n",
    "job_df = df.groupby(\"JobTitle\")[payment_cols].mean().sort_values(by = \"TotalPay\", ascending = False)\n",
    "job_df.head(10)"
   ]
  },
  {
   "cell_type": "code",
   "execution_count": 534,
   "metadata": {},
   "outputs": [
    {
     "data": {
      "image/png": "[encoded data removed]",
      "text/plain": [
       "<Figure size 864x432 with 1 Axes>"
      ]
     },
     "metadata": {
      "needs_background": "light"
     },
     "output_type": "display_data"
    }
   ],
   "source": [
    "# Shwoing the top 10 job titles that have the highest total pay.\n",
    "job_df['TotalPay'].head(10).plot.bar(figsize = (12, 6),\n",
    "                                     title = \"Total Pay for each job title\",\n",
    "                                     color = sns.color_palette(\"Blues_r\"));"
   ]
  },
  {
   "cell_type": "markdown",
   "metadata": {},
   "source": [
    "- We can see that the 'Chief Investment Officer' has the highest total pay and generally the chiefs in the organization has the highest total pay."
   ]
  },
  {
   "cell_type": "markdown",
   "metadata": {},
   "source": [
    "### Correlation Analysis"
   ]
  },
  {
   "cell_type": "code",
   "execution_count": 535,
   "metadata": {},
   "outputs": [
    {
     "data": {
      "image/png": "[encoded data removed]",
      "text/plain": [
       "<Figure size 864x432 with 2 Axes>"
      ]
     },
     "metadata": {
      "needs_background": "light"
     },
     "output_type": "display_data"
    }
   ],
   "source": [
    "plt.figure(figsize = (12, 6))\n",
    "# Making a heatmao that shows the correlation between the numerical columns\n",
    "sns.heatmap(df.drop(\"Id\", axis = 1).corr());"
   ]
  },
  {
   "cell_type": "markdown",
   "metadata": {},
   "source": [
    "- We can see that there is a good correlation between the 'TotalPay' and the ['BasePay', 'OvertimePay', 'Benefits'] \n",
    "- There is a low correlation between the 'Benefits' & 'OtherPay' and 'Benefits' & 'OvertimePay' but a good one with 'BasePay' "
   ]
  },
  {
   "cell_type": "markdown",
   "metadata": {
    "id": "HE9jbRjcUyoX"
   },
   "source": [
    "# Good Luck!"
   ]
  },
  {
   "cell_type": "code",
   "execution_count": null,
   "metadata": {},
   "outputs": [],
   "source": []
  }
 ],
 "metadata": {
  "colab": {
   "provenance": []
  },
  "kernelspec": {
   "display_name": "Python 3 (ipykernel)",
   "language": "python",
   "name": "python3"
  },
  "language_info": {
   "codemirror_mode": {
    "name": "ipython",
    "version": 3
   },
   "file_extension": ".py",
   "mimetype": "text/x-python",
   "name": "python",
   "nbconvert_exporter": "python",
   "pygments_lexer": "ipython3",
   "version": "3.9.12"
  }
 },
 "nbformat": 4,
 "nbformat_minor": 1
}
